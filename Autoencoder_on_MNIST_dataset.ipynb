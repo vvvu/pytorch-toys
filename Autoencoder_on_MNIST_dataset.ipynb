{
  "nbformat": 4,
  "nbformat_minor": 0,
  "metadata": {
    "colab": {
      "name": "Autoencoder on MNIST dataset.ipynb",
      "provenance": [],
      "authorship_tag": "ABX9TyNIqWETcvd1+7zl4Vz+T1nO",
      "include_colab_link": true
    },
    "kernelspec": {
      "name": "python3",
      "display_name": "Python 3"
    },
    "language_info": {
      "name": "python"
    },
    "accelerator": "GPU",
    "widgets": {
      "application/vnd.jupyter.widget-state+json": {
        "2ed5cd9320c64094948d62da1ffa4242": {
          "model_module": "@jupyter-widgets/controls",
          "model_name": "HBoxModel",
          "state": {
            "_view_name": "HBoxView",
            "_dom_classes": [],
            "_model_name": "HBoxModel",
            "_view_module": "@jupyter-widgets/controls",
            "_model_module_version": "1.5.0",
            "_view_count": null,
            "_view_module_version": "1.5.0",
            "box_style": "",
            "layout": "IPY_MODEL_9b5206c5923d4ec0af3448ad70f640ca",
            "_model_module": "@jupyter-widgets/controls",
            "children": [
              "IPY_MODEL_7c9a651c7c3549988859b38fc6479bf4",
              "IPY_MODEL_4b8d37d6718a43bd83da67a2787fb56e"
            ]
          }
        },
        "9b5206c5923d4ec0af3448ad70f640ca": {
          "model_module": "@jupyter-widgets/base",
          "model_name": "LayoutModel",
          "state": {
            "_view_name": "LayoutView",
            "grid_template_rows": null,
            "right": null,
            "justify_content": null,
            "_view_module": "@jupyter-widgets/base",
            "overflow": null,
            "_model_module_version": "1.2.0",
            "_view_count": null,
            "flex_flow": null,
            "width": null,
            "min_width": null,
            "border": null,
            "align_items": null,
            "bottom": null,
            "_model_module": "@jupyter-widgets/base",
            "top": null,
            "grid_column": null,
            "overflow_y": null,
            "overflow_x": null,
            "grid_auto_flow": null,
            "grid_area": null,
            "grid_template_columns": null,
            "flex": null,
            "_model_name": "LayoutModel",
            "justify_items": null,
            "grid_row": null,
            "max_height": null,
            "align_content": null,
            "visibility": null,
            "align_self": null,
            "height": null,
            "min_height": null,
            "padding": null,
            "grid_auto_rows": null,
            "grid_gap": null,
            "max_width": null,
            "order": null,
            "_view_module_version": "1.2.0",
            "grid_template_areas": null,
            "object_position": null,
            "object_fit": null,
            "grid_auto_columns": null,
            "margin": null,
            "display": null,
            "left": null
          }
        },
        "7c9a651c7c3549988859b38fc6479bf4": {
          "model_module": "@jupyter-widgets/controls",
          "model_name": "FloatProgressModel",
          "state": {
            "_view_name": "ProgressView",
            "style": "IPY_MODEL_eac64cd0ae5942de8501cabcea98b97b",
            "_dom_classes": [],
            "description": "",
            "_model_name": "FloatProgressModel",
            "bar_style": "success",
            "max": 9912422,
            "_view_module": "@jupyter-widgets/controls",
            "_model_module_version": "1.5.0",
            "value": 9912422,
            "_view_count": null,
            "_view_module_version": "1.5.0",
            "orientation": "horizontal",
            "min": 0,
            "description_tooltip": null,
            "_model_module": "@jupyter-widgets/controls",
            "layout": "IPY_MODEL_f82f64ff6bfc46a19912e28867973086"
          }
        },
        "4b8d37d6718a43bd83da67a2787fb56e": {
          "model_module": "@jupyter-widgets/controls",
          "model_name": "HTMLModel",
          "state": {
            "_view_name": "HTMLView",
            "style": "IPY_MODEL_df59a50305a7478586043891759d10eb",
            "_dom_classes": [],
            "description": "",
            "_model_name": "HTMLModel",
            "placeholder": "​",
            "_view_module": "@jupyter-widgets/controls",
            "_model_module_version": "1.5.0",
            "value": " 9913344/? [07:36&lt;00:00, 21719.61it/s]",
            "_view_count": null,
            "_view_module_version": "1.5.0",
            "description_tooltip": null,
            "_model_module": "@jupyter-widgets/controls",
            "layout": "IPY_MODEL_a17f441936d146d5a32a35a6fd76087e"
          }
        },
        "eac64cd0ae5942de8501cabcea98b97b": {
          "model_module": "@jupyter-widgets/controls",
          "model_name": "ProgressStyleModel",
          "state": {
            "_view_name": "StyleView",
            "_model_name": "ProgressStyleModel",
            "description_width": "initial",
            "_view_module": "@jupyter-widgets/base",
            "_model_module_version": "1.5.0",
            "_view_count": null,
            "_view_module_version": "1.2.0",
            "bar_color": null,
            "_model_module": "@jupyter-widgets/controls"
          }
        },
        "f82f64ff6bfc46a19912e28867973086": {
          "model_module": "@jupyter-widgets/base",
          "model_name": "LayoutModel",
          "state": {
            "_view_name": "LayoutView",
            "grid_template_rows": null,
            "right": null,
            "justify_content": null,
            "_view_module": "@jupyter-widgets/base",
            "overflow": null,
            "_model_module_version": "1.2.0",
            "_view_count": null,
            "flex_flow": null,
            "width": null,
            "min_width": null,
            "border": null,
            "align_items": null,
            "bottom": null,
            "_model_module": "@jupyter-widgets/base",
            "top": null,
            "grid_column": null,
            "overflow_y": null,
            "overflow_x": null,
            "grid_auto_flow": null,
            "grid_area": null,
            "grid_template_columns": null,
            "flex": null,
            "_model_name": "LayoutModel",
            "justify_items": null,
            "grid_row": null,
            "max_height": null,
            "align_content": null,
            "visibility": null,
            "align_self": null,
            "height": null,
            "min_height": null,
            "padding": null,
            "grid_auto_rows": null,
            "grid_gap": null,
            "max_width": null,
            "order": null,
            "_view_module_version": "1.2.0",
            "grid_template_areas": null,
            "object_position": null,
            "object_fit": null,
            "grid_auto_columns": null,
            "margin": null,
            "display": null,
            "left": null
          }
        },
        "df59a50305a7478586043891759d10eb": {
          "model_module": "@jupyter-widgets/controls",
          "model_name": "DescriptionStyleModel",
          "state": {
            "_view_name": "StyleView",
            "_model_name": "DescriptionStyleModel",
            "description_width": "",
            "_view_module": "@jupyter-widgets/base",
            "_model_module_version": "1.5.0",
            "_view_count": null,
            "_view_module_version": "1.2.0",
            "_model_module": "@jupyter-widgets/controls"
          }
        },
        "a17f441936d146d5a32a35a6fd76087e": {
          "model_module": "@jupyter-widgets/base",
          "model_name": "LayoutModel",
          "state": {
            "_view_name": "LayoutView",
            "grid_template_rows": null,
            "right": null,
            "justify_content": null,
            "_view_module": "@jupyter-widgets/base",
            "overflow": null,
            "_model_module_version": "1.2.0",
            "_view_count": null,
            "flex_flow": null,
            "width": null,
            "min_width": null,
            "border": null,
            "align_items": null,
            "bottom": null,
            "_model_module": "@jupyter-widgets/base",
            "top": null,
            "grid_column": null,
            "overflow_y": null,
            "overflow_x": null,
            "grid_auto_flow": null,
            "grid_area": null,
            "grid_template_columns": null,
            "flex": null,
            "_model_name": "LayoutModel",
            "justify_items": null,
            "grid_row": null,
            "max_height": null,
            "align_content": null,
            "visibility": null,
            "align_self": null,
            "height": null,
            "min_height": null,
            "padding": null,
            "grid_auto_rows": null,
            "grid_gap": null,
            "max_width": null,
            "order": null,
            "_view_module_version": "1.2.0",
            "grid_template_areas": null,
            "object_position": null,
            "object_fit": null,
            "grid_auto_columns": null,
            "margin": null,
            "display": null,
            "left": null
          }
        },
        "d2c786c3fe3e4b8d8efc546b633687f3": {
          "model_module": "@jupyter-widgets/controls",
          "model_name": "HBoxModel",
          "state": {
            "_view_name": "HBoxView",
            "_dom_classes": [],
            "_model_name": "HBoxModel",
            "_view_module": "@jupyter-widgets/controls",
            "_model_module_version": "1.5.0",
            "_view_count": null,
            "_view_module_version": "1.5.0",
            "box_style": "",
            "layout": "IPY_MODEL_636c4364f9d74633b79cb6938389c4e1",
            "_model_module": "@jupyter-widgets/controls",
            "children": [
              "IPY_MODEL_69a40d10dd6948728b357404a1ff08b7",
              "IPY_MODEL_7920471f317a4fc7932fd5d143ec678a"
            ]
          }
        },
        "636c4364f9d74633b79cb6938389c4e1": {
          "model_module": "@jupyter-widgets/base",
          "model_name": "LayoutModel",
          "state": {
            "_view_name": "LayoutView",
            "grid_template_rows": null,
            "right": null,
            "justify_content": null,
            "_view_module": "@jupyter-widgets/base",
            "overflow": null,
            "_model_module_version": "1.2.0",
            "_view_count": null,
            "flex_flow": null,
            "width": null,
            "min_width": null,
            "border": null,
            "align_items": null,
            "bottom": null,
            "_model_module": "@jupyter-widgets/base",
            "top": null,
            "grid_column": null,
            "overflow_y": null,
            "overflow_x": null,
            "grid_auto_flow": null,
            "grid_area": null,
            "grid_template_columns": null,
            "flex": null,
            "_model_name": "LayoutModel",
            "justify_items": null,
            "grid_row": null,
            "max_height": null,
            "align_content": null,
            "visibility": null,
            "align_self": null,
            "height": null,
            "min_height": null,
            "padding": null,
            "grid_auto_rows": null,
            "grid_gap": null,
            "max_width": null,
            "order": null,
            "_view_module_version": "1.2.0",
            "grid_template_areas": null,
            "object_position": null,
            "object_fit": null,
            "grid_auto_columns": null,
            "margin": null,
            "display": null,
            "left": null
          }
        },
        "69a40d10dd6948728b357404a1ff08b7": {
          "model_module": "@jupyter-widgets/controls",
          "model_name": "FloatProgressModel",
          "state": {
            "_view_name": "ProgressView",
            "style": "IPY_MODEL_c795325f16214690b999571692c7fbd7",
            "_dom_classes": [],
            "description": "",
            "_model_name": "FloatProgressModel",
            "bar_style": "success",
            "max": 28881,
            "_view_module": "@jupyter-widgets/controls",
            "_model_module_version": "1.5.0",
            "value": 28881,
            "_view_count": null,
            "_view_module_version": "1.5.0",
            "orientation": "horizontal",
            "min": 0,
            "description_tooltip": null,
            "_model_module": "@jupyter-widgets/controls",
            "layout": "IPY_MODEL_5b697185e7f742c083fef3fda195534e"
          }
        },
        "7920471f317a4fc7932fd5d143ec678a": {
          "model_module": "@jupyter-widgets/controls",
          "model_name": "HTMLModel",
          "state": {
            "_view_name": "HTMLView",
            "style": "IPY_MODEL_71fe258f418f45288b48fbf930916f5d",
            "_dom_classes": [],
            "description": "",
            "_model_name": "HTMLModel",
            "placeholder": "​",
            "_view_module": "@jupyter-widgets/controls",
            "_model_module_version": "1.5.0",
            "value": " 29696/? [07:33&lt;00:00, 65.42it/s]",
            "_view_count": null,
            "_view_module_version": "1.5.0",
            "description_tooltip": null,
            "_model_module": "@jupyter-widgets/controls",
            "layout": "IPY_MODEL_cd5e2b476c2a478e9361bef570503825"
          }
        },
        "c795325f16214690b999571692c7fbd7": {
          "model_module": "@jupyter-widgets/controls",
          "model_name": "ProgressStyleModel",
          "state": {
            "_view_name": "StyleView",
            "_model_name": "ProgressStyleModel",
            "description_width": "initial",
            "_view_module": "@jupyter-widgets/base",
            "_model_module_version": "1.5.0",
            "_view_count": null,
            "_view_module_version": "1.2.0",
            "bar_color": null,
            "_model_module": "@jupyter-widgets/controls"
          }
        },
        "5b697185e7f742c083fef3fda195534e": {
          "model_module": "@jupyter-widgets/base",
          "model_name": "LayoutModel",
          "state": {
            "_view_name": "LayoutView",
            "grid_template_rows": null,
            "right": null,
            "justify_content": null,
            "_view_module": "@jupyter-widgets/base",
            "overflow": null,
            "_model_module_version": "1.2.0",
            "_view_count": null,
            "flex_flow": null,
            "width": null,
            "min_width": null,
            "border": null,
            "align_items": null,
            "bottom": null,
            "_model_module": "@jupyter-widgets/base",
            "top": null,
            "grid_column": null,
            "overflow_y": null,
            "overflow_x": null,
            "grid_auto_flow": null,
            "grid_area": null,
            "grid_template_columns": null,
            "flex": null,
            "_model_name": "LayoutModel",
            "justify_items": null,
            "grid_row": null,
            "max_height": null,
            "align_content": null,
            "visibility": null,
            "align_self": null,
            "height": null,
            "min_height": null,
            "padding": null,
            "grid_auto_rows": null,
            "grid_gap": null,
            "max_width": null,
            "order": null,
            "_view_module_version": "1.2.0",
            "grid_template_areas": null,
            "object_position": null,
            "object_fit": null,
            "grid_auto_columns": null,
            "margin": null,
            "display": null,
            "left": null
          }
        },
        "71fe258f418f45288b48fbf930916f5d": {
          "model_module": "@jupyter-widgets/controls",
          "model_name": "DescriptionStyleModel",
          "state": {
            "_view_name": "StyleView",
            "_model_name": "DescriptionStyleModel",
            "description_width": "",
            "_view_module": "@jupyter-widgets/base",
            "_model_module_version": "1.5.0",
            "_view_count": null,
            "_view_module_version": "1.2.0",
            "_model_module": "@jupyter-widgets/controls"
          }
        },
        "cd5e2b476c2a478e9361bef570503825": {
          "model_module": "@jupyter-widgets/base",
          "model_name": "LayoutModel",
          "state": {
            "_view_name": "LayoutView",
            "grid_template_rows": null,
            "right": null,
            "justify_content": null,
            "_view_module": "@jupyter-widgets/base",
            "overflow": null,
            "_model_module_version": "1.2.0",
            "_view_count": null,
            "flex_flow": null,
            "width": null,
            "min_width": null,
            "border": null,
            "align_items": null,
            "bottom": null,
            "_model_module": "@jupyter-widgets/base",
            "top": null,
            "grid_column": null,
            "overflow_y": null,
            "overflow_x": null,
            "grid_auto_flow": null,
            "grid_area": null,
            "grid_template_columns": null,
            "flex": null,
            "_model_name": "LayoutModel",
            "justify_items": null,
            "grid_row": null,
            "max_height": null,
            "align_content": null,
            "visibility": null,
            "align_self": null,
            "height": null,
            "min_height": null,
            "padding": null,
            "grid_auto_rows": null,
            "grid_gap": null,
            "max_width": null,
            "order": null,
            "_view_module_version": "1.2.0",
            "grid_template_areas": null,
            "object_position": null,
            "object_fit": null,
            "grid_auto_columns": null,
            "margin": null,
            "display": null,
            "left": null
          }
        },
        "d9f7aa7a0cc64bf7bc4a3c015d33e233": {
          "model_module": "@jupyter-widgets/controls",
          "model_name": "HBoxModel",
          "state": {
            "_view_name": "HBoxView",
            "_dom_classes": [],
            "_model_name": "HBoxModel",
            "_view_module": "@jupyter-widgets/controls",
            "_model_module_version": "1.5.0",
            "_view_count": null,
            "_view_module_version": "1.5.0",
            "box_style": "",
            "layout": "IPY_MODEL_e258dd815f1444bf902f11f6a28337ff",
            "_model_module": "@jupyter-widgets/controls",
            "children": [
              "IPY_MODEL_66ccf22b506346b4bc281dc72dd1ea53",
              "IPY_MODEL_f8b145cd50584da99aa3e4f6c83366b0"
            ]
          }
        },
        "e258dd815f1444bf902f11f6a28337ff": {
          "model_module": "@jupyter-widgets/base",
          "model_name": "LayoutModel",
          "state": {
            "_view_name": "LayoutView",
            "grid_template_rows": null,
            "right": null,
            "justify_content": null,
            "_view_module": "@jupyter-widgets/base",
            "overflow": null,
            "_model_module_version": "1.2.0",
            "_view_count": null,
            "flex_flow": null,
            "width": null,
            "min_width": null,
            "border": null,
            "align_items": null,
            "bottom": null,
            "_model_module": "@jupyter-widgets/base",
            "top": null,
            "grid_column": null,
            "overflow_y": null,
            "overflow_x": null,
            "grid_auto_flow": null,
            "grid_area": null,
            "grid_template_columns": null,
            "flex": null,
            "_model_name": "LayoutModel",
            "justify_items": null,
            "grid_row": null,
            "max_height": null,
            "align_content": null,
            "visibility": null,
            "align_self": null,
            "height": null,
            "min_height": null,
            "padding": null,
            "grid_auto_rows": null,
            "grid_gap": null,
            "max_width": null,
            "order": null,
            "_view_module_version": "1.2.0",
            "grid_template_areas": null,
            "object_position": null,
            "object_fit": null,
            "grid_auto_columns": null,
            "margin": null,
            "display": null,
            "left": null
          }
        },
        "66ccf22b506346b4bc281dc72dd1ea53": {
          "model_module": "@jupyter-widgets/controls",
          "model_name": "FloatProgressModel",
          "state": {
            "_view_name": "ProgressView",
            "style": "IPY_MODEL_ff2875b49b56408c8fb40842ea7b260e",
            "_dom_classes": [],
            "description": "",
            "_model_name": "FloatProgressModel",
            "bar_style": "success",
            "max": 1648877,
            "_view_module": "@jupyter-widgets/controls",
            "_model_module_version": "1.5.0",
            "value": 1648877,
            "_view_count": null,
            "_view_module_version": "1.5.0",
            "orientation": "horizontal",
            "min": 0,
            "description_tooltip": null,
            "_model_module": "@jupyter-widgets/controls",
            "layout": "IPY_MODEL_9f48441e393a4120a74892a02f1efcf8"
          }
        },
        "f8b145cd50584da99aa3e4f6c83366b0": {
          "model_module": "@jupyter-widgets/controls",
          "model_name": "HTMLModel",
          "state": {
            "_view_name": "HTMLView",
            "style": "IPY_MODEL_068e3395dc8d4a918beaf9731b345237",
            "_dom_classes": [],
            "description": "",
            "_model_name": "HTMLModel",
            "placeholder": "​",
            "_view_module": "@jupyter-widgets/controls",
            "_model_module_version": "1.5.0",
            "value": " 1649664/? [00:02&lt;00:00, 810672.64it/s]",
            "_view_count": null,
            "_view_module_version": "1.5.0",
            "description_tooltip": null,
            "_model_module": "@jupyter-widgets/controls",
            "layout": "IPY_MODEL_14545af0ff0c495099a98ae58c78aa39"
          }
        },
        "ff2875b49b56408c8fb40842ea7b260e": {
          "model_module": "@jupyter-widgets/controls",
          "model_name": "ProgressStyleModel",
          "state": {
            "_view_name": "StyleView",
            "_model_name": "ProgressStyleModel",
            "description_width": "initial",
            "_view_module": "@jupyter-widgets/base",
            "_model_module_version": "1.5.0",
            "_view_count": null,
            "_view_module_version": "1.2.0",
            "bar_color": null,
            "_model_module": "@jupyter-widgets/controls"
          }
        },
        "9f48441e393a4120a74892a02f1efcf8": {
          "model_module": "@jupyter-widgets/base",
          "model_name": "LayoutModel",
          "state": {
            "_view_name": "LayoutView",
            "grid_template_rows": null,
            "right": null,
            "justify_content": null,
            "_view_module": "@jupyter-widgets/base",
            "overflow": null,
            "_model_module_version": "1.2.0",
            "_view_count": null,
            "flex_flow": null,
            "width": null,
            "min_width": null,
            "border": null,
            "align_items": null,
            "bottom": null,
            "_model_module": "@jupyter-widgets/base",
            "top": null,
            "grid_column": null,
            "overflow_y": null,
            "overflow_x": null,
            "grid_auto_flow": null,
            "grid_area": null,
            "grid_template_columns": null,
            "flex": null,
            "_model_name": "LayoutModel",
            "justify_items": null,
            "grid_row": null,
            "max_height": null,
            "align_content": null,
            "visibility": null,
            "align_self": null,
            "height": null,
            "min_height": null,
            "padding": null,
            "grid_auto_rows": null,
            "grid_gap": null,
            "max_width": null,
            "order": null,
            "_view_module_version": "1.2.0",
            "grid_template_areas": null,
            "object_position": null,
            "object_fit": null,
            "grid_auto_columns": null,
            "margin": null,
            "display": null,
            "left": null
          }
        },
        "068e3395dc8d4a918beaf9731b345237": {
          "model_module": "@jupyter-widgets/controls",
          "model_name": "DescriptionStyleModel",
          "state": {
            "_view_name": "StyleView",
            "_model_name": "DescriptionStyleModel",
            "description_width": "",
            "_view_module": "@jupyter-widgets/base",
            "_model_module_version": "1.5.0",
            "_view_count": null,
            "_view_module_version": "1.2.0",
            "_model_module": "@jupyter-widgets/controls"
          }
        },
        "14545af0ff0c495099a98ae58c78aa39": {
          "model_module": "@jupyter-widgets/base",
          "model_name": "LayoutModel",
          "state": {
            "_view_name": "LayoutView",
            "grid_template_rows": null,
            "right": null,
            "justify_content": null,
            "_view_module": "@jupyter-widgets/base",
            "overflow": null,
            "_model_module_version": "1.2.0",
            "_view_count": null,
            "flex_flow": null,
            "width": null,
            "min_width": null,
            "border": null,
            "align_items": null,
            "bottom": null,
            "_model_module": "@jupyter-widgets/base",
            "top": null,
            "grid_column": null,
            "overflow_y": null,
            "overflow_x": null,
            "grid_auto_flow": null,
            "grid_area": null,
            "grid_template_columns": null,
            "flex": null,
            "_model_name": "LayoutModel",
            "justify_items": null,
            "grid_row": null,
            "max_height": null,
            "align_content": null,
            "visibility": null,
            "align_self": null,
            "height": null,
            "min_height": null,
            "padding": null,
            "grid_auto_rows": null,
            "grid_gap": null,
            "max_width": null,
            "order": null,
            "_view_module_version": "1.2.0",
            "grid_template_areas": null,
            "object_position": null,
            "object_fit": null,
            "grid_auto_columns": null,
            "margin": null,
            "display": null,
            "left": null
          }
        },
        "ee846654ec814f5d96eff829c34efa7a": {
          "model_module": "@jupyter-widgets/controls",
          "model_name": "HBoxModel",
          "state": {
            "_view_name": "HBoxView",
            "_dom_classes": [],
            "_model_name": "HBoxModel",
            "_view_module": "@jupyter-widgets/controls",
            "_model_module_version": "1.5.0",
            "_view_count": null,
            "_view_module_version": "1.5.0",
            "box_style": "",
            "layout": "IPY_MODEL_624c62ef5a2042b69f93d23724993d88",
            "_model_module": "@jupyter-widgets/controls",
            "children": [
              "IPY_MODEL_13f1f8565d0e4fad885c5e94de71f94f",
              "IPY_MODEL_69ca53a1dd144ac2a9cce1eb23a538b8"
            ]
          }
        },
        "624c62ef5a2042b69f93d23724993d88": {
          "model_module": "@jupyter-widgets/base",
          "model_name": "LayoutModel",
          "state": {
            "_view_name": "LayoutView",
            "grid_template_rows": null,
            "right": null,
            "justify_content": null,
            "_view_module": "@jupyter-widgets/base",
            "overflow": null,
            "_model_module_version": "1.2.0",
            "_view_count": null,
            "flex_flow": null,
            "width": null,
            "min_width": null,
            "border": null,
            "align_items": null,
            "bottom": null,
            "_model_module": "@jupyter-widgets/base",
            "top": null,
            "grid_column": null,
            "overflow_y": null,
            "overflow_x": null,
            "grid_auto_flow": null,
            "grid_area": null,
            "grid_template_columns": null,
            "flex": null,
            "_model_name": "LayoutModel",
            "justify_items": null,
            "grid_row": null,
            "max_height": null,
            "align_content": null,
            "visibility": null,
            "align_self": null,
            "height": null,
            "min_height": null,
            "padding": null,
            "grid_auto_rows": null,
            "grid_gap": null,
            "max_width": null,
            "order": null,
            "_view_module_version": "1.2.0",
            "grid_template_areas": null,
            "object_position": null,
            "object_fit": null,
            "grid_auto_columns": null,
            "margin": null,
            "display": null,
            "left": null
          }
        },
        "13f1f8565d0e4fad885c5e94de71f94f": {
          "model_module": "@jupyter-widgets/controls",
          "model_name": "FloatProgressModel",
          "state": {
            "_view_name": "ProgressView",
            "style": "IPY_MODEL_2334f50b09774e1eb7293a92fa01b178",
            "_dom_classes": [],
            "description": "",
            "_model_name": "FloatProgressModel",
            "bar_style": "success",
            "max": 4542,
            "_view_module": "@jupyter-widgets/controls",
            "_model_module_version": "1.5.0",
            "value": 4542,
            "_view_count": null,
            "_view_module_version": "1.5.0",
            "orientation": "horizontal",
            "min": 0,
            "description_tooltip": null,
            "_model_module": "@jupyter-widgets/controls",
            "layout": "IPY_MODEL_b9c414701a4f420db6fae8004aa53db0"
          }
        },
        "69ca53a1dd144ac2a9cce1eb23a538b8": {
          "model_module": "@jupyter-widgets/controls",
          "model_name": "HTMLModel",
          "state": {
            "_view_name": "HTMLView",
            "style": "IPY_MODEL_797fa4cc255a4a8cb7aeaae37bbf04c2",
            "_dom_classes": [],
            "description": "",
            "_model_name": "HTMLModel",
            "placeholder": "​",
            "_view_module": "@jupyter-widgets/controls",
            "_model_module_version": "1.5.0",
            "value": " 5120/? [00:00&lt;00:00, 14857.97it/s]",
            "_view_count": null,
            "_view_module_version": "1.5.0",
            "description_tooltip": null,
            "_model_module": "@jupyter-widgets/controls",
            "layout": "IPY_MODEL_c42a79241e344db6aaa9eb303df21dfd"
          }
        },
        "2334f50b09774e1eb7293a92fa01b178": {
          "model_module": "@jupyter-widgets/controls",
          "model_name": "ProgressStyleModel",
          "state": {
            "_view_name": "StyleView",
            "_model_name": "ProgressStyleModel",
            "description_width": "initial",
            "_view_module": "@jupyter-widgets/base",
            "_model_module_version": "1.5.0",
            "_view_count": null,
            "_view_module_version": "1.2.0",
            "bar_color": null,
            "_model_module": "@jupyter-widgets/controls"
          }
        },
        "b9c414701a4f420db6fae8004aa53db0": {
          "model_module": "@jupyter-widgets/base",
          "model_name": "LayoutModel",
          "state": {
            "_view_name": "LayoutView",
            "grid_template_rows": null,
            "right": null,
            "justify_content": null,
            "_view_module": "@jupyter-widgets/base",
            "overflow": null,
            "_model_module_version": "1.2.0",
            "_view_count": null,
            "flex_flow": null,
            "width": null,
            "min_width": null,
            "border": null,
            "align_items": null,
            "bottom": null,
            "_model_module": "@jupyter-widgets/base",
            "top": null,
            "grid_column": null,
            "overflow_y": null,
            "overflow_x": null,
            "grid_auto_flow": null,
            "grid_area": null,
            "grid_template_columns": null,
            "flex": null,
            "_model_name": "LayoutModel",
            "justify_items": null,
            "grid_row": null,
            "max_height": null,
            "align_content": null,
            "visibility": null,
            "align_self": null,
            "height": null,
            "min_height": null,
            "padding": null,
            "grid_auto_rows": null,
            "grid_gap": null,
            "max_width": null,
            "order": null,
            "_view_module_version": "1.2.0",
            "grid_template_areas": null,
            "object_position": null,
            "object_fit": null,
            "grid_auto_columns": null,
            "margin": null,
            "display": null,
            "left": null
          }
        },
        "797fa4cc255a4a8cb7aeaae37bbf04c2": {
          "model_module": "@jupyter-widgets/controls",
          "model_name": "DescriptionStyleModel",
          "state": {
            "_view_name": "StyleView",
            "_model_name": "DescriptionStyleModel",
            "description_width": "",
            "_view_module": "@jupyter-widgets/base",
            "_model_module_version": "1.5.0",
            "_view_count": null,
            "_view_module_version": "1.2.0",
            "_model_module": "@jupyter-widgets/controls"
          }
        },
        "c42a79241e344db6aaa9eb303df21dfd": {
          "model_module": "@jupyter-widgets/base",
          "model_name": "LayoutModel",
          "state": {
            "_view_name": "LayoutView",
            "grid_template_rows": null,
            "right": null,
            "justify_content": null,
            "_view_module": "@jupyter-widgets/base",
            "overflow": null,
            "_model_module_version": "1.2.0",
            "_view_count": null,
            "flex_flow": null,
            "width": null,
            "min_width": null,
            "border": null,
            "align_items": null,
            "bottom": null,
            "_model_module": "@jupyter-widgets/base",
            "top": null,
            "grid_column": null,
            "overflow_y": null,
            "overflow_x": null,
            "grid_auto_flow": null,
            "grid_area": null,
            "grid_template_columns": null,
            "flex": null,
            "_model_name": "LayoutModel",
            "justify_items": null,
            "grid_row": null,
            "max_height": null,
            "align_content": null,
            "visibility": null,
            "align_self": null,
            "height": null,
            "min_height": null,
            "padding": null,
            "grid_auto_rows": null,
            "grid_gap": null,
            "max_width": null,
            "order": null,
            "_view_module_version": "1.2.0",
            "grid_template_areas": null,
            "object_position": null,
            "object_fit": null,
            "grid_auto_columns": null,
            "margin": null,
            "display": null,
            "left": null
          }
        }
      }
    }
  },
  "cells": [
    {
      "cell_type": "markdown",
      "metadata": {
        "id": "view-in-github",
        "colab_type": "text"
      },
      "source": [
        "<a href=\"https://colab.research.google.com/github/vvvu/pytorch-toys/blob/main/Autoencoder_on_MNIST_dataset.ipynb\" target=\"_parent\"><img src=\"https://colab.research.google.com/assets/colab-badge.svg\" alt=\"Open In Colab\"/></a>"
      ]
    },
    {
      "cell_type": "code",
      "metadata": {
        "id": "JGCN0fgku5fH"
      },
      "source": [
        "import os\n",
        "import torch\n",
        "import torch.nn as nn\n",
        "import torch.nn.functional as F\n",
        "import torchvision\n",
        "from torchvision import transforms\n",
        "from torchvision.utils import save_image"
      ],
      "execution_count": 1,
      "outputs": []
    },
    {
      "cell_type": "code",
      "metadata": {
        "colab": {
          "base_uri": "https://localhost:8080/",
          "height": 845,
          "referenced_widgets": [
            "2ed5cd9320c64094948d62da1ffa4242",
            "9b5206c5923d4ec0af3448ad70f640ca",
            "7c9a651c7c3549988859b38fc6479bf4",
            "4b8d37d6718a43bd83da67a2787fb56e",
            "eac64cd0ae5942de8501cabcea98b97b",
            "f82f64ff6bfc46a19912e28867973086",
            "df59a50305a7478586043891759d10eb",
            "a17f441936d146d5a32a35a6fd76087e",
            "d2c786c3fe3e4b8d8efc546b633687f3",
            "636c4364f9d74633b79cb6938389c4e1",
            "69a40d10dd6948728b357404a1ff08b7",
            "7920471f317a4fc7932fd5d143ec678a",
            "c795325f16214690b999571692c7fbd7",
            "5b697185e7f742c083fef3fda195534e",
            "71fe258f418f45288b48fbf930916f5d",
            "cd5e2b476c2a478e9361bef570503825",
            "d9f7aa7a0cc64bf7bc4a3c015d33e233",
            "e258dd815f1444bf902f11f6a28337ff",
            "66ccf22b506346b4bc281dc72dd1ea53",
            "f8b145cd50584da99aa3e4f6c83366b0",
            "ff2875b49b56408c8fb40842ea7b260e",
            "9f48441e393a4120a74892a02f1efcf8",
            "068e3395dc8d4a918beaf9731b345237",
            "14545af0ff0c495099a98ae58c78aa39",
            "ee846654ec814f5d96eff829c34efa7a",
            "624c62ef5a2042b69f93d23724993d88",
            "13f1f8565d0e4fad885c5e94de71f94f",
            "69ca53a1dd144ac2a9cce1eb23a538b8",
            "2334f50b09774e1eb7293a92fa01b178",
            "b9c414701a4f420db6fae8004aa53db0",
            "797fa4cc255a4a8cb7aeaae37bbf04c2",
            "c42a79241e344db6aaa9eb303df21dfd"
          ]
        },
        "id": "uZLi_Cukxe5K",
        "outputId": "98454548-2ab8-4248-e85e-8a95efd4f16e"
      },
      "source": [
        "device = torch.device('cuda' if torch.cuda.is_available() else 'cpu')\n",
        "\n",
        "# Hyper parameters\n",
        "image_size = 784\n",
        "num_epochs = 50\n",
        "learning_rate = 1e-3\n",
        "batch_size = 128 # 每个batch有多少个样本\n",
        "\n",
        "# MNIST dataset\n",
        "dataset = torchvision.datasets.MNIST(root = './data',\n",
        "                                     train = True,\n",
        "                                     transform = transforms.ToTensor(),\n",
        "                                     download = True)\n",
        "\n",
        "# Data Loader\n",
        "data_loader = torch.utils.data.DataLoader(dataset = dataset,\n",
        "                                          batch_size = batch_size,\n",
        "                                          shuffle = True)"
      ],
      "execution_count": 2,
      "outputs": [
        {
          "output_type": "stream",
          "text": [
            "Downloading http://yann.lecun.com/exdb/mnist/train-images-idx3-ubyte.gz\n",
            "Failed to download (trying next):\n",
            "HTTP Error 503: Service Unavailable\n",
            "\n",
            "Downloading https://ossci-datasets.s3.amazonaws.com/mnist/train-images-idx3-ubyte.gz\n",
            "Downloading https://ossci-datasets.s3.amazonaws.com/mnist/train-images-idx3-ubyte.gz to ./data/MNIST/raw/train-images-idx3-ubyte.gz\n"
          ],
          "name": "stdout"
        },
        {
          "output_type": "display_data",
          "data": {
            "application/vnd.jupyter.widget-view+json": {
              "model_id": "2ed5cd9320c64094948d62da1ffa4242",
              "version_minor": 0,
              "version_major": 2
            },
            "text/plain": [
              "HBox(children=(FloatProgress(value=0.0, max=9912422.0), HTML(value='')))"
            ]
          },
          "metadata": {
            "tags": []
          }
        },
        {
          "output_type": "stream",
          "text": [
            "\n",
            "Extracting ./data/MNIST/raw/train-images-idx3-ubyte.gz to ./data/MNIST/raw\n",
            "\n",
            "Downloading http://yann.lecun.com/exdb/mnist/train-labels-idx1-ubyte.gz\n",
            "Failed to download (trying next):\n",
            "HTTP Error 503: Service Unavailable\n",
            "\n",
            "Downloading https://ossci-datasets.s3.amazonaws.com/mnist/train-labels-idx1-ubyte.gz\n",
            "Downloading https://ossci-datasets.s3.amazonaws.com/mnist/train-labels-idx1-ubyte.gz to ./data/MNIST/raw/train-labels-idx1-ubyte.gz\n"
          ],
          "name": "stdout"
        },
        {
          "output_type": "display_data",
          "data": {
            "application/vnd.jupyter.widget-view+json": {
              "model_id": "d2c786c3fe3e4b8d8efc546b633687f3",
              "version_minor": 0,
              "version_major": 2
            },
            "text/plain": [
              "HBox(children=(FloatProgress(value=0.0, max=28881.0), HTML(value='')))"
            ]
          },
          "metadata": {
            "tags": []
          }
        },
        {
          "output_type": "stream",
          "text": [
            "\n",
            "Extracting ./data/MNIST/raw/train-labels-idx1-ubyte.gz to ./data/MNIST/raw\n",
            "\n",
            "Downloading http://yann.lecun.com/exdb/mnist/t10k-images-idx3-ubyte.gz\n",
            "Failed to download (trying next):\n",
            "HTTP Error 503: Service Unavailable\n",
            "\n",
            "Downloading https://ossci-datasets.s3.amazonaws.com/mnist/t10k-images-idx3-ubyte.gz\n",
            "Downloading https://ossci-datasets.s3.amazonaws.com/mnist/t10k-images-idx3-ubyte.gz to ./data/MNIST/raw/t10k-images-idx3-ubyte.gz\n"
          ],
          "name": "stdout"
        },
        {
          "output_type": "display_data",
          "data": {
            "application/vnd.jupyter.widget-view+json": {
              "model_id": "d9f7aa7a0cc64bf7bc4a3c015d33e233",
              "version_minor": 0,
              "version_major": 2
            },
            "text/plain": [
              "HBox(children=(FloatProgress(value=0.0, max=1648877.0), HTML(value='')))"
            ]
          },
          "metadata": {
            "tags": []
          }
        },
        {
          "output_type": "stream",
          "text": [
            "\n",
            "Extracting ./data/MNIST/raw/t10k-images-idx3-ubyte.gz to ./data/MNIST/raw\n",
            "\n",
            "Downloading http://yann.lecun.com/exdb/mnist/t10k-labels-idx1-ubyte.gz\n",
            "Failed to download (trying next):\n",
            "HTTP Error 503: Service Unavailable\n",
            "\n",
            "Downloading https://ossci-datasets.s3.amazonaws.com/mnist/t10k-labels-idx1-ubyte.gz\n",
            "Downloading https://ossci-datasets.s3.amazonaws.com/mnist/t10k-labels-idx1-ubyte.gz to ./data/MNIST/raw/t10k-labels-idx1-ubyte.gz\n"
          ],
          "name": "stdout"
        },
        {
          "output_type": "display_data",
          "data": {
            "application/vnd.jupyter.widget-view+json": {
              "model_id": "ee846654ec814f5d96eff829c34efa7a",
              "version_minor": 0,
              "version_major": 2
            },
            "text/plain": [
              "HBox(children=(FloatProgress(value=0.0, max=4542.0), HTML(value='')))"
            ]
          },
          "metadata": {
            "tags": []
          }
        },
        {
          "output_type": "stream",
          "text": [
            "\n",
            "Extracting ./data/MNIST/raw/t10k-labels-idx1-ubyte.gz to ./data/MNIST/raw\n",
            "\n",
            "Processing...\n",
            "Done!\n"
          ],
          "name": "stdout"
        },
        {
          "output_type": "stream",
          "text": [
            "/usr/local/lib/python3.7/dist-packages/torchvision/datasets/mnist.py:502: UserWarning: The given NumPy array is not writeable, and PyTorch does not support non-writeable tensors. This means you can write to the underlying (supposedly non-writeable) NumPy array using the tensor. You may want to copy the array to protect its data or make it writeable before converting it to a tensor. This type of warning will be suppressed for the rest of this program. (Triggered internally at  /pytorch/torch/csrc/utils/tensor_numpy.cpp:143.)\n",
            "  return torch.from_numpy(parsed.astype(m[2], copy=False)).view(*s)\n"
          ],
          "name": "stderr"
        }
      ]
    },
    {
      "cell_type": "code",
      "metadata": {
        "id": "4jKfeXYtx4El"
      },
      "source": [
        "# AE Model\n",
        "class AE(nn.Module):\n",
        "  def __init__(self, image_size = 784):\n",
        "    super(AE, self).__init__()\n",
        "    '''\n",
        "    encoder\n",
        "    '''\n",
        "    self.enc_fc1 = nn.Linear(in_features = image_size, out_features = 256)\n",
        "    self.enc_fc2 = nn.Linear(in_features = 256, out_features = 128)\n",
        "    self.enc_fc3 = nn.Linear(in_features = 128, out_features = 64)\n",
        "    self.enc_fc4 = nn.Linear(in_features = 64, out_features = 32)\n",
        "    self.enc_fc5 = nn.Linear(in_features = 32, out_features = 16)\n",
        "\n",
        "    '''\n",
        "    decoder\n",
        "    '''\n",
        "    self.dec_fc1 = nn.Linear(in_features = 16, out_features = 32)\n",
        "    self.dec_fc2 = nn.Linear(in_features = 32, out_features = 64)\n",
        "    self.dec_fc3 = nn.Linear(in_features = 64, out_features = 128)\n",
        "    self.dec_fc4 = nn.Linear(in_features = 128, out_features = 256)\n",
        "    self.dec_fc5 = nn.Linear(in_features = 256, out_features = image_size)\n",
        "\n",
        "  def forward(self, x):\n",
        "    x = F.relu(self.enc_fc1(x))\n",
        "    x = F.relu(self.enc_fc2(x))\n",
        "    x = F.relu(self.enc_fc3(x))\n",
        "    x = F.relu(self.enc_fc4(x))\n",
        "    x = F.relu(self.enc_fc5(x))\n",
        "\n",
        "    x = F.relu(self.dec_fc1(x))\n",
        "    x = F.relu(self.dec_fc2(x))\n",
        "    x = F.relu(self.dec_fc3(x))\n",
        "    x = F.relu(self.dec_fc4(x))\n",
        "    x = F.relu(self.dec_fc5(x))\n",
        "    return x"
      ],
      "execution_count": 3,
      "outputs": []
    },
    {
      "cell_type": "code",
      "metadata": {
        "colab": {
          "base_uri": "https://localhost:8080/"
        },
        "id": "cZRD-b6_zIVe",
        "outputId": "a863f1ab-3bb0-4244-9204-08539e42c26e"
      },
      "source": [
        "model = AE().to(device)\n",
        "print(model)"
      ],
      "execution_count": 4,
      "outputs": [
        {
          "output_type": "stream",
          "text": [
            "AE(\n",
            "  (enc_fc1): Linear(in_features=784, out_features=256, bias=True)\n",
            "  (enc_fc2): Linear(in_features=256, out_features=128, bias=True)\n",
            "  (enc_fc3): Linear(in_features=128, out_features=64, bias=True)\n",
            "  (enc_fc4): Linear(in_features=64, out_features=32, bias=True)\n",
            "  (enc_fc5): Linear(in_features=32, out_features=16, bias=True)\n",
            "  (dec_fc1): Linear(in_features=16, out_features=32, bias=True)\n",
            "  (dec_fc2): Linear(in_features=32, out_features=64, bias=True)\n",
            "  (dec_fc3): Linear(in_features=64, out_features=128, bias=True)\n",
            "  (dec_fc4): Linear(in_features=128, out_features=256, bias=True)\n",
            "  (dec_fc5): Linear(in_features=256, out_features=784, bias=True)\n",
            ")\n"
          ],
          "name": "stdout"
        }
      ]
    },
    {
      "cell_type": "code",
      "metadata": {
        "id": "9DeTOyEszKui"
      },
      "source": [
        "optimizer = torch.optim.Adam(model.parameters(), lr = learning_rate)\n",
        "criterion = nn.MSELoss()"
      ],
      "execution_count": 5,
      "outputs": []
    },
    {
      "cell_type": "markdown",
      "metadata": {
        "id": "8l_oRpXs8YYR"
      },
      "source": [
        "### running_loss与loss\n",
        "- 第一种情况：将epoch内部再次划分为多个batch，所以`loss.item()`实际上是每一个batch的loss，我们需要用`running_loss`将其求和，然后就可以求出一个epoch中的平均`loss`\n",
        "```python\n",
        "for epoch in range(num_epochs):\n",
        "  running_loss = 0\n",
        "  for data in data_loader:\n",
        "    ....\n",
        "    ....\n",
        "    loss.backward()\n",
        "    optimizer.step()\n",
        "    running_loss += loss.item()\n",
        "    ....\n",
        "```\n",
        "\n",
        "- 第二种情况：这种情况下数据集没有划分为batch，所以一个epoch的`loss`直接通过`loss.item()`得到即可\n",
        "```python\n",
        "for epoch in range(num_epochs):\n",
        "  ....\n",
        "  ....\n",
        "  loss.backward()\n",
        "  optimizer.step()\n",
        "  print(loss.item())\n",
        "```"
      ]
    },
    {
      "cell_type": "code",
      "metadata": {
        "colab": {
          "base_uri": "https://localhost:8080/"
        },
        "id": "VvcbHVhbzhTL",
        "outputId": "27affdfe-3671-4d5d-d0ef-67dd18271212"
      },
      "source": [
        "# Start training\n",
        "train_loss = []\n",
        "for epoch in range(num_epochs):\n",
        "  running_loss = 0.0\n",
        "  '''\n",
        "  len(data_loader):\n",
        "  1. MNIST总共有6w张图片\n",
        "  2. batch_size = 128，说明每一个batch我们有128个样本\n",
        "  3. len(data_loader) = 60000/128 = 469\n",
        "  '''\n",
        "  for batch_id, (img, label) in enumerate(data_loader):\n",
        "    '''\n",
        "    1. batch_id: 当前读入的MNIST数据集的第几批，总共有60000/128 = 469批\n",
        "    2. img: 其中每一个batch有batch_size=128张图片\n",
        "    3. label: Tensor，维度1x128，存储每张图片对应的Label\n",
        "    '''\n",
        "    # Forward pass\n",
        "    img = img.to(device).view(-1, image_size)\n",
        "    '''\n",
        "    .view(-1, b)，-1代表不确定，这里代表你不确定将28x28的图片压缩成几行，但你可以肯定要压缩成image_size = 784列\n",
        "    效果上等同于28 x 28 => 1 x 784\n",
        "    '''\n",
        "\n",
        "    # Backprop and optimize\n",
        "    optimizer.zero_grad()\n",
        "    outputs_image = model(img) # Reconstruction Image\n",
        "    loss = criterion(outputs_image, img) # Reconstruction Error\n",
        "    '''\n",
        "    1. 这里的loss是当前epoch的loss\n",
        "    '''\n",
        "    loss.backward()\n",
        "    optimizer.step()\n",
        "\n",
        "    running_loss += loss.item()\n",
        "    '''\n",
        "    - The 'item()' method extracts the loss's value as a Python float\n",
        "    因为我们实际上是希望得到loss的标量值，而这里的loss实际上是计算图的一部分，\n",
        "    是一个Tensor而并非是一个scalar，所以我们要使用loss.item()进行转换\n",
        "    '''\n",
        "\n",
        "  loss = running_loss / len(data_loader)\n",
        "  '''\n",
        "  running_loss记录的是每一个epoch中的loss平均值\n",
        "  1. 当前我们这批数据有60000/128 = 469 batchs，每一个batch我们都会计算得到一个loss\n",
        "  这个loss是针对当前batch的，我们用running_loss将469 batchs的loss累加起来，然后去除\n",
        "  我们的batch总数len(data_loader) = 469\n",
        "  2. 就可以得到我们当前这个epoch的平均loss，为什么要得到每个epoch的平均loss？这是因为 - The\n",
        "  average of the batch losses will give you an estimate of the \"epoch loss\" during\n",
        "  training. Since you are calculating the loss anyway, you could just sum it and calculate\n",
        "  the mean after the epoch finishes.\n",
        "  The training loss is used to see, how well your model performs on the training dataset.\n",
        "  '''\n",
        "  train_loss.append(loss)\n",
        "  # Print useful information\n",
        "  print('Epoch {} of {}, Train Loss: {:.3f}'.format(\n",
        "      epoch + 1, num_epochs, loss\n",
        "  ))"
      ],
      "execution_count": 6,
      "outputs": [
        {
          "output_type": "stream",
          "text": [
            "Epoch 1 of 50, Train Loss: 0.066\n",
            "Epoch 2 of 50, Train Loss: 0.044\n",
            "Epoch 3 of 50, Train Loss: 0.037\n",
            "Epoch 4 of 50, Train Loss: 0.033\n",
            "Epoch 5 of 50, Train Loss: 0.030\n",
            "Epoch 6 of 50, Train Loss: 0.028\n",
            "Epoch 7 of 50, Train Loss: 0.026\n",
            "Epoch 8 of 50, Train Loss: 0.026\n",
            "Epoch 9 of 50, Train Loss: 0.025\n",
            "Epoch 10 of 50, Train Loss: 0.024\n",
            "Epoch 11 of 50, Train Loss: 0.023\n",
            "Epoch 12 of 50, Train Loss: 0.023\n",
            "Epoch 13 of 50, Train Loss: 0.022\n",
            "Epoch 14 of 50, Train Loss: 0.022\n",
            "Epoch 15 of 50, Train Loss: 0.022\n",
            "Epoch 16 of 50, Train Loss: 0.021\n",
            "Epoch 17 of 50, Train Loss: 0.021\n",
            "Epoch 18 of 50, Train Loss: 0.020\n",
            "Epoch 19 of 50, Train Loss: 0.020\n",
            "Epoch 20 of 50, Train Loss: 0.020\n",
            "Epoch 21 of 50, Train Loss: 0.019\n",
            "Epoch 22 of 50, Train Loss: 0.019\n",
            "Epoch 23 of 50, Train Loss: 0.019\n",
            "Epoch 24 of 50, Train Loss: 0.018\n",
            "Epoch 25 of 50, Train Loss: 0.018\n",
            "Epoch 26 of 50, Train Loss: 0.018\n",
            "Epoch 27 of 50, Train Loss: 0.018\n",
            "Epoch 28 of 50, Train Loss: 0.018\n",
            "Epoch 29 of 50, Train Loss: 0.017\n",
            "Epoch 30 of 50, Train Loss: 0.017\n",
            "Epoch 31 of 50, Train Loss: 0.017\n",
            "Epoch 32 of 50, Train Loss: 0.017\n",
            "Epoch 33 of 50, Train Loss: 0.017\n",
            "Epoch 34 of 50, Train Loss: 0.017\n",
            "Epoch 35 of 50, Train Loss: 0.017\n",
            "Epoch 36 of 50, Train Loss: 0.017\n",
            "Epoch 37 of 50, Train Loss: 0.016\n",
            "Epoch 38 of 50, Train Loss: 0.016\n",
            "Epoch 39 of 50, Train Loss: 0.016\n",
            "Epoch 40 of 50, Train Loss: 0.016\n",
            "Epoch 41 of 50, Train Loss: 0.016\n",
            "Epoch 42 of 50, Train Loss: 0.016\n",
            "Epoch 43 of 50, Train Loss: 0.016\n",
            "Epoch 44 of 50, Train Loss: 0.016\n",
            "Epoch 45 of 50, Train Loss: 0.016\n",
            "Epoch 46 of 50, Train Loss: 0.016\n",
            "Epoch 47 of 50, Train Loss: 0.016\n",
            "Epoch 48 of 50, Train Loss: 0.016\n",
            "Epoch 49 of 50, Train Loss: 0.015\n",
            "Epoch 50 of 50, Train Loss: 0.015\n"
          ],
          "name": "stdout"
        }
      ]
    },
    {
      "cell_type": "code",
      "metadata": {
        "colab": {
          "base_uri": "https://localhost:8080/",
          "height": 312
        },
        "id": "9VG25qjEzxDA",
        "outputId": "6e5456de-d79a-419f-f54c-d22afe7b453a"
      },
      "source": [
        "'''\n",
        "Plot the train_loss trends\n",
        "'''\n",
        "import matplotlib.pyplot as plt\n",
        "plt.figure()\n",
        "plt.plot(train_loss)\n",
        "plt.title('Train Loss')\n",
        "plt.xlabel('Epochs')\n",
        "plt.ylabel('Loss')"
      ],
      "execution_count": 7,
      "outputs": [
        {
          "output_type": "execute_result",
          "data": {
            "text/plain": [
              "Text(0, 0.5, 'Loss')"
            ]
          },
          "metadata": {
            "tags": []
          },
          "execution_count": 7
        },
        {
          "output_type": "display_data",
          "data": {
            "image/png": "[encoded data removed]",
            "text/plain": [
              "<Figure size 432x288 with 1 Axes>"
            ]
          },
          "metadata": {
            "tags": [],
            "needs_background": "light"
          }
        }
      ]
    }
  ]
}